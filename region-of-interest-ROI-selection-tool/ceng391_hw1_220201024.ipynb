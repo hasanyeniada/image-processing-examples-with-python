{
 "cells": [
  {
   "cell_type": "code",
   "execution_count": 1,
   "metadata": {},
   "outputs": [],
   "source": [
    "import cv2"
   ]
  },
  {
   "cell_type": "code",
   "execution_count": 2,
   "metadata": {},
   "outputs": [],
   "source": [
    "img = cv2.imread('img2.jpg', 1)\n",
    "cv2.namedWindow('ROI',0)\n",
    "cv2.resizeWindow('ROI', 780, 650)\n",
    "cv2.moveWindow('ROI', 450, 150)\n",
    "#Window whose name is ROI has creates to show the image"
   ]
  },
  {
   "cell_type": "code",
   "execution_count": 3,
   "metadata": {
    "scrolled": true
   },
   "outputs": [],
   "source": [
    "x1, y1, x2, y2 = 0, 0, 0, 0 #neccesary points for rectangle  \n",
    "#counter specifies the whether two dot is selected or not and specify whether can edit or save a point or not!\n",
    "counter = 1\n",
    "editable = False #if editable is false we cannot pass the edit mode\n",
    "which_dot = 0  #this shows which point will be selected to edit\n",
    "def edit_top(): #makes top point magenta and updates counter,which_dot and editable\n",
    "    global editable, counter, which_dot, x1, y1, x2, y2\n",
    "    cv2.circle(img,(x1,y1),4,(255,0,255),-1)\n",
    "    counter, which_dot, editable = 2, 0, True \n",
    "def edit_bottom(): #makes bottom point magenta and updates counter,which_dot and editable   \n",
    "    global editable, counter, which_dot, x1, y1, x2, y2    \n",
    "    cv2.circle(img,(x2,y2),4,(255,0,255),-1)\n",
    "    counter, which_dot, editable = 2, 1, True\n",
    "    \n",
    "def main_drawing_func(event,x,y,flags,param):\n",
    "    global x1, y1, x2, y2, counter, editable, which_dot, img, img_temp\n",
    "    img_temp = cv2.imread('img2.jpg', 1)\n",
    "    if event == cv2.EVENT_LBUTTONDBLCLK:  #Left double click selects two point and new selected point in edit mode\n",
    "        if counter == 1: #this function is for selection of first point on image after left double click\n",
    "            cv2.circle(img,(x,y),4,(0,255,0),-1)\n",
    "            cv2.circle(img,(x,y),10,(0,255,255),0)\n",
    "            x1, y1 = x, y\n",
    "        elif counter == 2: #this function is for selection of second point or new selected point in edit mode\n",
    "            \n",
    "            if editable == False: #if editable is false this means we are selecting second point at the beginning\n",
    "                if abs(x - x1) < 10 and abs(y - y1) < 10: #controls 10 pixel condition\n",
    "                    counter,editable,which_dot = 1, True, 1\n",
    "                elif x < x1 or y < y1: #controls selectable areas condition\n",
    "                    counter,editable,which_dot = 1, True, 1 #if wrong point is selected moves edit mode\n",
    "                else:\n",
    "                    cv2.circle(img,(x,y),4,(0,255,0),-1)\n",
    "                    cv2.circle(img,(x,y),10,(0,255,255),0)\n",
    "                    cv2.rectangle(img,(x1,y1),(x,y),(0,0,255),2) #if points are valid, draw rectangle\n",
    "                    x2, y2 = x, y \n",
    "            \n",
    "            elif editable == True and which_dot == 0:#we are in edit mode: 0 means top point will be edited\n",
    "                if abs(x - x2) < 10 and abs(y - y2) < 10: #controls 10 pixel condition\n",
    "                    x1, y1 = x, y\n",
    "                    counter, which_dot, editable = 1, 0, True  #if wrong point is selected moves edit mode again\n",
    "                elif x > x2 or y > y2: #controls allowed areas condition\n",
    "                    x1, y1 = x, y\n",
    "                    counter, which_dot, editable = 1, 0, True #if wrong point is selected moves edit mode again\n",
    "                else:\n",
    "                    x1, y1 = x, y\n",
    "                    img = img_temp #img is cleaned, we are drawing all points and rectangle to clean image\n",
    "                    cv2.circle(img,(x1,y1),4,(0,255,0),-1)\n",
    "                    cv2.circle(img,(x1,y1),10,(0,255,255),0)\n",
    "                    cv2.circle(img,(x2,y2),4,(0,255,0),-1)\n",
    "                    cv2.circle(img,(x2,y2),10,(0,255,255),0)\n",
    "                    cv2.rectangle(img,(x1,y1),(x2,y2),(0,0,255),2) #if points are valid, draw rectangle\n",
    "                    edit = False\n",
    "\n",
    "            elif editable == True and which_dot == 1: #we are in edit mode: 1 means bottom point will be edited\n",
    "                if abs(x - x1) < 10 and abs(y - y1) < 10: #controls 10 pixel condition\n",
    "                    x2, y2 = x, y\n",
    "                    counter, which_dot, editable = 1, 1, True  #if wrong point is selected moves edit mode again\n",
    "                elif x < x1 or y < y1:  #controls allowed areas condition\n",
    "                    x2, y2 = x, y\n",
    "                    counter, which_dot, editable = 1, 1, True #if wrong point is selected moves edit mode again\n",
    "                else:\n",
    "                    x2, y2 = x, y \n",
    "                    img = img_temp #img is cleaned, we are drawing all points and rectangle to clean image\n",
    "                    cv2.circle(img,(x1,y1),4,(0,255,0),-1) \n",
    "                    cv2.circle(img,(x1,y1),10,(0,255,255),0)\n",
    "                    cv2.circle(img,(x2,y2),4,(0,255,0),-1)\n",
    "                    cv2.circle(img,(x2,y2),10,(0,255,255),0)\n",
    "                    cv2.rectangle(img,(x1,y1),(x2,y2),(0,0,255),2) #if points are valid, draw rectangle\n",
    "                    editable = False     \n",
    "        counter = counter + 1 #after every left double click, counter is updated to prevent wrong point selection\n",
    "\n"
   ]
  },
  {
   "cell_type": "code",
   "execution_count": null,
   "metadata": {},
   "outputs": [
    {
     "name": "stdout",
     "output_type": "stream",
     "text": [
      "What's name of object?\n",
      " car\n",
      "What's name of object?\n",
      " ggg\n"
     ]
    }
   ],
   "source": [
    "cv2.setMouseCallback('ROI',main_drawing_func)\n",
    "while(1):\n",
    "    global editable, counter, which_dot, x1, y1, x2, y2\n",
    "    cv2.imshow('ROI',img)\n",
    "    k = cv2.waitKey(1) & 0xFF\n",
    "    if k == 27: # Press esc to exit from ROI\n",
    "        break\n",
    "    elif k == ord('t') and counter == 3: # Press t to edit left top point after selection of two point\n",
    "        edit_top()\n",
    "    elif k == ord('b') and counter == 3: # Press b to edit right bottom point after selection of two point\n",
    "        edit_bottom()\n",
    "    elif k == ord('s') and counter == 3: # Press s to save selected rectangles coordinates \n",
    "        name = input(\"What's name of object?\\n \")\n",
    "        roi_obj = \"\\\"\" + name + \", (\" + str(x1) + \",\" + str(y1) + \"), (\" + str(x2) + \",\" + str(y2) + \")\\\"\\n\"\n",
    "        file = open(\"roi_file.txt\", \"a\")\n",
    "        file.write(roi_obj)\n",
    "        file.close()\n",
    "        counter, which_dot, editable = 1, 0, False\n",
    "        img_temp = cv2.imread('img2.jpg', 1)\n",
    "        img = img_temp # Restart image and continue\n",
    "cv2.destroyAllWindows()"
   ]
  },
  {
   "cell_type": "code",
   "execution_count": null,
   "metadata": {},
   "outputs": [],
   "source": []
  }
 ],
 "metadata": {
  "kernelspec": {
   "display_name": "Python 3",
   "language": "python",
   "name": "python3"
  },
  "language_info": {
   "codemirror_mode": {
    "name": "ipython",
    "version": 3
   },
   "file_extension": ".py",
   "mimetype": "text/x-python",
   "name": "python",
   "nbconvert_exporter": "python",
   "pygments_lexer": "ipython3",
   "version": "3.5.2"
  }
 },
 "nbformat": 4,
 "nbformat_minor": 2
}
