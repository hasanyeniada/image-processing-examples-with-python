{
 "cells": [
  {
   "cell_type": "code",
   "execution_count": 1,
   "metadata": {},
   "outputs": [
    {
     "data": {
      "text/plain": [
       "{'divide': 'warn', 'invalid': 'warn', 'over': 'warn', 'under': 'ignore'}"
      ]
     },
     "execution_count": 1,
     "metadata": {},
     "output_type": "execute_result"
    }
   ],
   "source": [
    "import numpy as np\n",
    "import cv2\n",
    "import math\n",
    "np.seterr(over='ignore')"
   ]
  },
  {
   "cell_type": "code",
   "execution_count": 2,
   "metadata": {},
   "outputs": [],
   "source": [
    "def find_spatial_distance(x1, y1, x2, y2): #simple gaussian function, find spatial diff between given 2 number\n",
    "    return np.sqrt((x1-x2)**2 + (y1-y2)**2)"
   ]
  },
  {
   "cell_type": "code",
   "execution_count": 3,
   "metadata": {},
   "outputs": [],
   "source": [
    "def apply_gaussian(x, sigma): #simple gaussian function\n",
    "    pi = math.pi\n",
    "    e =  math.exp(1)\n",
    "    return (1.0 / (2 * pi  * (sigma ** 2))) * e**(- (x ** 2) / (2 * sigma ** 2))"
   ]
  },
  {
   "cell_type": "code",
   "execution_count": 4,
   "metadata": {},
   "outputs": [],
   "source": [
    "def find_intensity_diff(src, x1, y1, x2, y2):  #basically gives intensity difference between two pixel\n",
    "    intensity_of_orginal_image = src[x1][y1]\n",
    "    intensity_of_neighbour = src[x2][y2]\n",
    "    return  intensity_of_orginal_image - intensity_of_neighbour"
   ]
  },
  {
   "cell_type": "code",
   "execution_count": 5,
   "metadata": {},
   "outputs": [],
   "source": [
    "def find_normalization_term_wp(src, neighbour_x, neighbour_y, img_x, img_y, sigma_i, sigma_s): #gives Wp\n",
    "    intensity_diff = find_intensity_diff(src, neighbour_x, neighbour_y, img_x, img_y)\n",
    "    spatial_distance = find_spatial_distance(neighbour_x, neighbour_y, img_x, img_y)\n",
    "        \n",
    "    gi = apply_gaussian(intensity_diff, sigma_i) #apply gaussian for intensity_difference of neighbour and pixel\n",
    "    gs = apply_gaussian(spatial_distance, sigma_s)#apply gaussian for spatial diff of neighbour and pixel\n",
    "    \n",
    "    normalization_term = gi * gs\n",
    "    \n",
    "    return normalization_term"
   ]
  },
  {
   "cell_type": "code",
   "execution_count": 6,
   "metadata": {},
   "outputs": [],
   "source": [
    "def apply_filter(image, x, y, window_size, sigma_i, sigma_s):\n",
    "    hl = window_size//2 #hl is 3 in our case, possible values are row +- 3 and col +- 3  \n",
    "    filtered_pixel = 0\n",
    "    Wp = 0\n",
    "    \n",
    "    for row in range(0,window_size):\n",
    "        for col in range(0,window_size):\n",
    "            neighbour_x = x - (hl - row)\n",
    "            neighbour_y = y - (hl - col)\n",
    "            \n",
    "            #I USED EDGE OPTION FOR FILTERING AS REPLICATION OF BORDER PIXELS!!\n",
    "            if neighbour_x < 0: #for negative x values, take borders' pixels\n",
    "                neighbour_x = 0\n",
    "            \n",
    "            if neighbour_x >= len(image): #if we exceed the row count, again take borders' pixels\n",
    "                neighbour_x = len(image) - 1\n",
    "                \n",
    "            if neighbour_y < 0: #for negative y values, take borders\n",
    "                neighbour_y = 0\n",
    "                \n",
    "            if neighbour_y >= len(image[0]): #if we exceed the col count, again take borders' pixels\n",
    "                neighbour_y = len(image[0]) - 1\n",
    "            \n",
    "            normalization_term_of_neighbour_pixel = find_normalization_term_wp(image, neighbour_x, neighbour_y, x, y, sigma_i, sigma_s)\n",
    "            filtered_pixel += image[neighbour_x][neighbour_y] * normalization_term_of_neighbour_pixel\n",
    "            Wp += normalization_term_of_neighbour_pixel #total Wp\n",
    "    filtered_pixel /= Wp  #multiply summation with 1/Wp\n",
    "    return filtered_pixel #returns filtered pixel intensity, \n",
    "                #and we will give that intensity to pixel at copy of original image"
   ]
  },
  {
   "cell_type": "code",
   "execution_count": 7,
   "metadata": {},
   "outputs": [],
   "source": [
    "def bilateral_filter_main(image, window_size, sigma_i, sigma_s):\n",
    "    filtered_image = np.zeros(image.shape) #copy of original image\n",
    "\n",
    "    for row in range(0,len(image)):\n",
    "        for col in range(0,len(image[0])): #pixel at (row,col) will be filtered\n",
    "            filtered_image[row][col] = int(round(apply_filter(image, row, col, window_size, sigma_i, sigma_s)))\n",
    "    \n",
    "    return filtered_image"
   ]
  },
  {
   "cell_type": "code",
   "execution_count": 8,
   "metadata": {},
   "outputs": [
    {
     "data": {
      "text/plain": [
       "True"
      ]
     },
     "execution_count": 8,
     "metadata": {},
     "output_type": "execute_result"
    }
   ],
   "source": [
    "src = cv2.imread(\"in_img.jpg\", 0)\n",
    "cv2.imwrite(\"original_image_grayscale.png\", src) #I wrote image as grayscale to compare with filtered ones\n",
    "\n",
    "filtered_image_OpenCV = cv2.bilateralFilter(src, 7, 3.0, 14.0)\n",
    "cv2.imwrite(\"OpenCV Filtered Image.png\", filtered_image_OpenCV) #opencv filtered image\n",
    "\n",
    "filtered_image_own = bilateral_filter_main(src, 7, 3.0, 14.0)\n",
    "cv2.imwrite(\"My Filtered Image.png\", filtered_image_own)  #my filtered image"
   ]
  },
  {
   "cell_type": "markdown",
   "metadata": {},
   "source": [
    "#Our main goal of using bilateral filter is reducing the noise of an image while preserving edges.This smoothing filter has sigma values for intensity kernel and spatial kernel.After I read some documentations about bilateral filtering and try a lot of sigma values combinations,I determined best sigma values for intensity kernel(sigmaI) as 3 and spatial kernel(sigmaS) as 18.\n",
    "\n",
    "The reason behing of this choice is that for example,when I keep sigmaS constant and increase sigmaI two by two,I saw that we are getting more blurred image,and close pixel intensities are mixing, so we cannot preserve edges for increased sigmaI values.\n",
    "When I increased sigmaI, image started to become more blured after sigmaI = 6, and I decide to choose sigmaI less than 6.And when I increased sigmaI one by one starting at 2 and I saw that when sigmaI = 3,noise on image is decreased compared to simgaI = 2, and I decide to choose best sigmaI value as 3. sigmaI = 5 was making image more blurred\n",
    "and we lost some edges and last options were 3 or 4. I tried 3 and 4 with different sigmaS combinations, actually 2 or 3 of that combinations made me a bit confused. \n",
    "\n",
    "Then I increased sigmaS two by two.When I reached sigmaS values more than 14 with sigmaI = 3,I found better results for smooting image while preserving edge goal.\n",
    "I tried sigmaI = 3, sigmaS = 20 combination and this gave more blurred image compared to 3,18 combination and I decided to choose sigmaS less than 20 and more than 14.\n",
    "I also compared 3,18 combination with 4,18 combination, 4,18 mixes some edges and I elected that combination.\n",
    "\n",
    "Finally I decided to choose sigmaI = 3 and sigmaS = 18, and there were some combinations made me confused (3,14 and 4,14), but I think 3,18 was best."
   ]
  },
  {
   "cell_type": "code",
   "execution_count": null,
   "metadata": {},
   "outputs": [],
   "source": []
  }
 ],
 "metadata": {
  "kernelspec": {
   "display_name": "Python 3",
   "language": "python",
   "name": "python3"
  },
  "language_info": {
   "codemirror_mode": {
    "name": "ipython",
    "version": 3
   },
   "file_extension": ".py",
   "mimetype": "text/x-python",
   "name": "python",
   "nbconvert_exporter": "python",
   "pygments_lexer": "ipython3",
   "version": "3.5.2"
  }
 },
 "nbformat": 4,
 "nbformat_minor": 2
}
